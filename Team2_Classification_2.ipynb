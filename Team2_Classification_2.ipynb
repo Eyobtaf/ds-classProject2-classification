{
 "cells": [
  {
   "cell_type": "markdown",
   "metadata": {},
   "source": [
    "<center>Project 2 (week 9)</center>\n",
    "\n",
    "# <center>Classification</center>\n",
    "\n",
    "<center>Eyob Gebremariam and Christopher Krug</center>  "
   ]
  },
  {
   "cell_type": "markdown",
   "metadata": {},
   "source": [
    "<a id=\"top\"></a>\n",
    "## Assignment research question\n",
    "Having discovered in the mini-lab exercise that the 2014 school data failed to provide convincing evidence supporting anecdotal claims that schools with a higher diversity of students tend to have higher attrition rates than schools who are less diverse, we will now explore claims about relationships among levels of teacher experience and socioeconomic factors at the school and district level, e.g., average property values, free and reduced lunches, average household income, unemployment rate, poverty rate, etc.\n",
    "\n",
    "Again, to explore the attrition rates, we will use teacher experience as a surrogate variable, i.e., schools that have lower values for teacher experience will be interpreted as having higher attrition rates. To fufill certain requirement for this assignmnent, we will create a three classes from the teacher experience attribute instead of two levels. \n",
    "\n",
    "** Classification ** <br /><em>(Click hyperlinks to skip to answers)</em>\n",
    "<p>** Data Preparation ** <a href=\"#dataPreparation\">(15 points)</a></p>\n",
    "\n",
    "* <a href=\"#defineAndPrepare\">[10 points]</a> <em>Define and prepare your class variables. Use proper variable representations (int, float, one-hot, etc.). Use pre-processing methods (as needed) for dimensionality reduction, scaling, etc. Remove variables that are not needed/useful for the analysis.</em>\n",
    "* <a href=\"#describeTheFinal\">[5 points]</a> <em>Describe the final dataset that is used for classification/regression (include a\n",
    "description of any newly formed variables you created).</em>\n",
    "\n",
    "<p>** Modeling and Evaluation ** <a href=\"#modelingAndEvaluation\">(70 points)</a></p>\n",
    "\n",
    "* <a href=\"#chooseAndExplain\">[10 points]</a> <em>Choose and explain your evaluation metrics that you will use (i.e., accuracy, precision, recall, F-measure, or any metric we have discussed). Why are the measure(s) appropriate for analyzing the results of your modeling? Give a detailed explanation backing up any assertions.</em>\n",
    "* <a href=\"#chooseTheMethod\">[10 points]</a> <em>Choose the method you will use for dividing your data into training and testing splits (i.e., are you using Stratified 10-fold cross validation? Why?). Explain why your chosen method is appropriate or use more than one method as appropriate. For example, if you are using time series data then you should be using continuous training and testing sets across time.</em>\n",
    "* <a href=\"#createThreeDifferent\">[20 points]</a> <em>Create three different classification/regression models for each task (e.g., random forest, KNN, and SVM for task one and the same or different algorithms for task two). Two modeling techniques must be new (but the third could be SVM or logistic regression). Adjust parameters as appropriate to increase generalization performance using your chosen metric. You must investigate different parameters of the algorithms!</em>\n",
    "* <a href=\"#analyzeTheResults\">[10 points]</a> <em>Analyze the results using your chosen method of evaluation. Use visualizations of the results to bolster the analysis. Explain any visuals and analyze why they are interesting to someone that might use this model.</em>\n",
    "* <a href=\"#discussTheAdvantages\">[10 points]</a> <em>Discuss the advantages of each model for each classification task, if any. If there are not advantages, explain why. Is any model better than another? Is the difference significant with 95% confidence? Use proper statistical comparison methods. You must use statistical comparison techniques—be sure they are appropriate for your chosen method of validation.</em>\n",
    "* <a href=\"#whichAttributesFrom\">[10 points]</a> <em>Which attributes from your analysis are most important? Use proper methods discussed in class to evaluate the importance of different attributes. Discuss the results and hypothesize about why certain attributes are more important than others for a given classification task.</em>\n",
    "\n",
    "<p>** Deployment ** <a href=\"#deployment\">(5 points)</a></p>\n",
    "* <em>How useful is your model for interested parties (i.e., the companies or organizations that might want to use it for prediction)? How would you measure the model's value if it was used by these parties? How would your deploy your model for interested parties? What other data should be collected? How often would the model need to be updated, etc.?</em>\n",
    "\n",
    "<p>** Exceptional Work ** <a href=\"#exceptional\">(10 points)</a></p>\n",
    "* <em>You have free reign to provide additional analyses.</em>\n",
    "* <em>One idea: grid search parameters in a parallelized fashion and visualize the performances across attributes. Which parameters are most significant for making a good model for each classification algorithm?</em>"
   ]
  },
  {
   "cell_type": "markdown",
   "metadata": {},
   "source": [
    "<p><a href=\"#top\">Return to top</a></p>\n",
    "<a id=\"dataPreparation\"></a>\n",
    "## Data Preparation\n",
    "<a id=\"defineAndPrepare\"></a>\n",
    "### \"Define and prepare ...\"\n",
    "<strong>[10 points]</strong> <em>Define and prepare your class variables. Use proper variable representations (int, float, one-hot, etc.). Use pre-processing methods (as needed) for dimensionality reduction, scaling, etc. Remove variables that are not needed/useful for the analysis.</em>"
   ]
  },
  {
   "cell_type": "code",
   "execution_count": null,
   "metadata": {
    "collapsed": true
   },
   "outputs": [],
   "source": []
  },
  {
   "cell_type": "markdown",
   "metadata": {},
   "source": [
    "<p><a href=\"#top\">Return to top</a></p>\n",
    "<a id=\"describeTheFinal\"></a>\n",
    "### \"Describe the final ...\"\n",
    "* <strong>[5 points]</strong> <em>Describe the final dataset that is used for classification/regression (include a\n",
    "description of any newly formed variables you created).</em>"
   ]
  },
  {
   "cell_type": "code",
   "execution_count": null,
   "metadata": {
    "collapsed": true
   },
   "outputs": [],
   "source": []
  },
  {
   "cell_type": "markdown",
   "metadata": {},
   "source": [
    "<p><a href=\"#top\">Return to top</a></p>\n",
    "<a id=\"modelingAndEvaluation\"></a>\n",
    "## Modeling and Evaluation\n",
    "* <a href=\"#chooseAndExplain\">[10 points]</a> <em>Choose and explain your evaluation metrics that you will use (i.e., accuracy, precision, recall, F-measure, or any metric we have discussed). Why are the measure(s) appropriate for analyzing the results of your modeling? Give a detailed explanation backing up any assertions.</em>\n",
    "* <a href=\"#chooseTheMethod\">[10 points]</a> <em>Choose the method you will use for dividing your data into training and testing splits (i.e., are you using Stratified 10-fold cross validation? Why?). Explain why your chosen method is appropriate or use more than one method as appropriate. For example, if you are using time series data then you should be using continuous training and testing sets across time.</em>\n",
    "* <a href=\"#createThreeDifferent\">[20 points]</a> <em>Create three different classification/regression models for each task (e.g., random forest, KNN, and SVM for task one and the same or different algorithms for task two). Two modeling techniques must be new (but the third could be SVM or logistic regression). Adjust parameters as appropriate to increase generalization performance using your chosen metric. You must investigate different parameters of the algorithms!</em>\n",
    "* <a href=\"#analyzeTheResults\">[10 points]</a> <em>Analyze the results using your chosen method of evaluation. Use visualizations of the results to bolster the analysis. Explain any visuals and analyze why they are interesting to someone that might use this model.</em>\n",
    "* <a href=\"#discussTheAdvantages\">[10 points]</a> <em>Discuss the advantages of each model for each classification task, if any. If there are not advantages, explain why. Is any model better than another? Is the difference significant with 95% confidence? Use proper statistical comparison methods. You must use statistical comparison techniques—be sure they are appropriate for your chosen method of validation.</em>\n",
    "* <a href=\"#whichAttributesFrom\">[10 points]</a> <em>Which attributes from your analysis are most important? Use proper methods discussed in class to evaluate the importance of different attributes. Discuss the results and hypothesize about why certain attributes are more important than others for a given classification task.</em>"
   ]
  },
  {
   "cell_type": "markdown",
   "metadata": {},
   "source": [
    "<p><a href=\"#top\">Return to top</a></p>\n",
    "<a id=\"chooseAndExplain\"></a>\n",
    "### \"Choose and Explain ...\"\n",
    "<strong>[10 points]</strong> <em>Choose and explain your evaluation metrics that you will use (i.e., accuracy, precision, recall, F-measure, or any metric we have discussed). Why are the measure(s) appropriate for analyzing the results of your modeling? Give a detailed explanation backing up any assertions.</em>"
   ]
  },
  {
   "cell_type": "code",
   "execution_count": null,
   "metadata": {
    "collapsed": true
   },
   "outputs": [],
   "source": []
  },
  {
   "cell_type": "markdown",
   "metadata": {},
   "source": [
    "<p><a href=\"#top\">Return to top</a></p>\n",
    "<a id=\"chooseTheMethod\"></a>\n",
    "### \"Choose the Method ...\"\n",
    "<strong>[10 points]</strong> <em>Choose the method you will use for dividing your data into training and testing splits (i.e., are you using Stratified 10-fold cross validation? Why?). Explain why your chosen method is appropriate or use more than one method as appropriate. For example, if you are using time series data then you should be using continuous training and testing sets across time.</em>"
   ]
  },
  {
   "cell_type": "code",
   "execution_count": null,
   "metadata": {
    "collapsed": true
   },
   "outputs": [],
   "source": []
  },
  {
   "cell_type": "markdown",
   "metadata": {},
   "source": [
    "<p><a href=\"#top\">Return to top</a></p>\n",
    "<a id=\"createThreeDifferent\"></a>\n",
    "### \"Create Three Different ...\"\n",
    "<strong>[20 points]</strong> <em>Create three different classification/regression models for each task (e.g., random forest, KNN, and SVM for task one and the same or different algorithms for task two). Two modeling techniques must be new (but the third could be SVM or logistic regression). Adjust parameters as appropriate to increase generalization performance using your chosen metric. You must investigate different parameters of the algorithms!</em>"
   ]
  },
  {
   "cell_type": "code",
   "execution_count": null,
   "metadata": {
    "collapsed": true
   },
   "outputs": [],
   "source": []
  },
  {
   "cell_type": "markdown",
   "metadata": {},
   "source": [
    "<p><a href=\"#top\">Return to top</a></p>\n",
    "<a id=\"analyzeTheResults\"></a>\n",
    "### \"Analyze the results ...\"\n",
    "<strong>[10 points]</strong> <em>Analyze the results using your chosen method of evaluation. Use visualizations of the results to bolster the analysis. Explain any visuals and analyze why they are interesting to someone that might use this model.</em>"
   ]
  },
  {
   "cell_type": "code",
   "execution_count": null,
   "metadata": {
    "collapsed": true
   },
   "outputs": [],
   "source": []
  },
  {
   "cell_type": "markdown",
   "metadata": {},
   "source": [
    "<p><a href=\"#top\">Return to top</a></p>\n",
    "<a id=\"discussTheAdvantages\"></a>\n",
    "### \"Discuss the Advantages...\"\n",
    "<strong>[10 points]</strong> <em>Discuss the advantages of each model for each classification task, if any. If there are not advantages, explain why. Is any model better than another? Is the difference significant with 95% confidence? Use proper statistical comparison methods. You must use statistical comparison techniques—be sure they are appropriate for your chosen method of validation.</em>"
   ]
  },
  {
   "cell_type": "code",
   "execution_count": null,
   "metadata": {
    "collapsed": true
   },
   "outputs": [],
   "source": []
  },
  {
   "cell_type": "markdown",
   "metadata": {},
   "source": [
    "<p><a href=\"#top\">Return to top</a></p>\n",
    "<a id=\"whichAttributesFrom\"></a>\n",
    "### \"Which Attributes ...\"\n",
    "<strong>[10 points]</strong> <em>Which attributes from your analysis are most important? Use proper methods discussed in class to evaluate the importance of different attributes. Discuss the results and hypothesize about why certain attributes are more important than others for a given classification task.</em>"
   ]
  },
  {
   "cell_type": "code",
   "execution_count": null,
   "metadata": {
    "collapsed": true
   },
   "outputs": [],
   "source": []
  },
  {
   "cell_type": "markdown",
   "metadata": {},
   "source": [
    "<p><a href=\"#top\">Return to top</a></p>\n",
    "<a id=\"deployment\"></a>\n",
    "## Deployment\n",
    "<strong>[5 points]</strong> <em>How useful is your model for interested parties (i.e., the companies or organizations that might want to use it for prediction)? How would you measure the model's value if it was used by these parties? How would your deploy your model for interested parties? What other data should be collected? How often would the model need to be updated, etc.?</em>"
   ]
  },
  {
   "cell_type": "code",
   "execution_count": null,
   "metadata": {
    "collapsed": true
   },
   "outputs": [],
   "source": []
  },
  {
   "cell_type": "markdown",
   "metadata": {},
   "source": [
    "<p><a href=\"#top\">Return to top</a></p>\n",
    "<a id=\"exceptional\"></a>\n",
    "## Exceptional Work\n",
    "<strong>[10 points]</strong> <em>You have free reign to provide additional analyses.</em>"
   ]
  },
  {
   "cell_type": "code",
   "execution_count": null,
   "metadata": {
    "collapsed": true
   },
   "outputs": [],
   "source": []
  }
 ],
 "metadata": {
  "kernelspec": {
   "display_name": "Python 2",
   "language": "python",
   "name": "python2"
  },
  "language_info": {
   "codemirror_mode": {
    "name": "ipython",
    "version": 2
   },
   "file_extension": ".py",
   "mimetype": "text/x-python",
   "name": "python",
   "nbconvert_exporter": "python",
   "pygments_lexer": "ipython2",
   "version": "2.7.11"
  }
 },
 "nbformat": 4,
 "nbformat_minor": 0
}
